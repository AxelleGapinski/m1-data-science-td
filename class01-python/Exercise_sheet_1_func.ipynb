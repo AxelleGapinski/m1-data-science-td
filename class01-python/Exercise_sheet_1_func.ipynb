{
 "cells": [
  {
   "cell_type": "markdown",
   "metadata": {},
   "source": [
    "# Exercise Sheet \\# 1"
   ]
  },
  {
   "cell_type": "markdown",
   "metadata": {},
   "source": [
    "## Exercise 1\n",
    "Let us consider a group of friends who organised a party together. Each one brought some food to the party. To make it fair, all these friends decided that they should spend equal money. Let us develop some python program to help them do the math.\n",
    "\n",
    "### Question 1.1\n",
    "As an example, consider these friends bought the following items (together with their total price):\n",
    "\n",
    "Emilie|Paul|Jacques|Eric\n",
    ":--|:--|:--|:--\n",
    "soda,3|juice,4|apples,3|bread,1\n",
    "camembert,5|chorizo,3|cookies,2|\n",
    "beaufort,6|spam,2|\n",
    "tomatoes,3|\n",
    "\n",
    "That is, Emilie spent 17 EUR, Paul 9 EUR, Jacques 5 EUR and Eric 1 EUR.\n",
    "\n",
    "How much money each of them would have paid if they had bought food together ? "
   ]
  },
  {
   "cell_type": "markdown",
   "metadata": {},
   "source": [
    "### Question 1.2\n",
    "Define 4 variables (`emilie`, `paul`, `jacques` and `eric`) containing the items each of them brought to the party.\n",
    "As a data structure for these variables, we will use a list of tuples."
   ]
  },
  {
   "cell_type": "code",
   "execution_count": 3,
   "metadata": {},
   "outputs": [],
   "source": [
    "emilie = [('soda', 3), ('camembert', 5), ('beaufort', 6), ('tomatoes', 3)]\n",
    "paul   = [('juice', 4), ('chorizo', 3), ('spam', 2)]\n",
    "jacques= [('apples', 3), ('cookies', 2)]\n",
    "eric   = [('bread', 1)]"
   ]
  },
  {
   "cell_type": "markdown",
   "metadata": {},
   "source": [
    "### Question 1.3\n",
    "Define a function `spent` which takes as an input a list of goods and returns their total price. "
   ]
  },
  {
   "cell_type": "code",
   "execution_count": 4,
   "metadata": {},
   "outputs": [
    {
     "data": {
      "text/plain": [
       "17"
      ]
     },
     "execution_count": 4,
     "metadata": {},
     "output_type": "execute_result"
    }
   ],
   "source": [
    "def spent(goods):\n",
    "    total = 0\n",
    "    for item, price in goods:\n",
    "        total += price\n",
    "    return total\n",
    "\n"
   ]
  },
  {
   "cell_type": "markdown",
   "metadata": {},
   "source": [
    "### Question 1.4\n",
    "What does `spent` returns when invoked with `paul` as a parameter ?"
   ]
  },
  {
   "cell_type": "code",
   "execution_count": 5,
   "metadata": {},
   "outputs": [
    {
     "data": {
      "text/plain": [
       "9"
      ]
     },
     "execution_count": 5,
     "metadata": {},
     "output_type": "execute_result"
    }
   ],
   "source": [
    "spent(paul)"
   ]
  },
  {
   "cell_type": "markdown",
   "metadata": {},
   "source": [
    "### Question 1.5\n",
    "Let us now define a variable `expenses` to encode all the expenses of the group. \n",
    "To do so, we will use a dictionary, which will associate each person (represented as a string) with her.his list of goods. "
   ]
  },
  {
   "cell_type": "code",
   "execution_count": 16,
   "metadata": {},
   "outputs": [
    {
     "name": "stdout",
     "output_type": "stream",
     "text": [
      "The total of money spent is 32 euros.\n"
     ]
    }
   ],
   "source": [
    "expenses = {\"Paul\": paul, \"Emilie\": emilie, \"Jacques\": jacques, \"Eric\" : eric}\n",
    "\n"
   ]
  },
  {
   "cell_type": "markdown",
   "metadata": {},
   "source": [
    "### Question 1.6\n",
    "Define a function `total` which computes, from a dictionary of expenses, the total amount of money spent."
   ]
  },
  {
   "cell_type": "code",
   "execution_count": 32,
   "metadata": {},
   "outputs": [],
   "source": [
    "total_spent = 0\n",
    "for person, goods in expenses.items():\n",
    "    total_spent += spent(goods)"
   ]
  },
  {
   "cell_type": "markdown",
   "metadata": {},
   "source": [
    "### Question 1.7\n",
    "What is the total amount of money spent by Emilie, Paul, Jacques and Eric ?"
   ]
  },
  {
   "cell_type": "code",
   "execution_count": 33,
   "metadata": {},
   "outputs": [
    {
     "name": "stdout",
     "output_type": "stream",
     "text": [
      "The total amount of money spent is 32 euros.\n"
     ]
    }
   ],
   "source": [
    "print(\"The total amount of money spent is\", total, \"euros.\")"
   ]
  },
  {
   "cell_type": "markdown",
   "metadata": {},
   "source": [
    "### Question 1.8\n",
    "Define a function `fair` which takes as an input a dictionary of expenses, and which returns a list of pairs _(person, money)_ indicating for each person, how much money she.he should pay (negative number) or receive (positive number)."
   ]
  },
  {
   "cell_type": "code",
   "execution_count": 36,
   "metadata": {},
   "outputs": [],
   "source": [
    "def fair(expenses):\n",
    "    total_spent = total(expenses)\n",
    "\n",
    "    num_people = len(expenses)\n",
    "    avg_spent = total_spent / num_people\n",
    "\n",
    "    fair_shares = {}\n",
    "    for person, goods in expenses.items():\n",
    "        person_spent = spent(goods)\n",
    "        fair_share = person_spent - avg_spent\n",
    "        fair_shares[person] = fair_share\n",
    "\n",
    "    return list(fair_shares.items())\n"
   ]
  },
  {
   "cell_type": "markdown",
   "metadata": {},
   "source": [
    "### Question 1.9\n",
    "What does `fair` returns when invoked with `expenses` as an input parameter ?"
   ]
  },
  {
   "cell_type": "code",
   "execution_count": 37,
   "metadata": {},
   "outputs": [
    {
     "ename": "TypeError",
     "evalue": "'int' object is not callable",
     "output_type": "error",
     "traceback": [
      "\u001b[1;31m---------------------------------------------------------------------------\u001b[0m",
      "\u001b[1;31mTypeError\u001b[0m                                 Traceback (most recent call last)",
      "Cell \u001b[1;32mIn[37], line 1\u001b[0m\n\u001b[1;32m----> 1\u001b[0m \u001b[43mfair\u001b[49m\u001b[43m(\u001b[49m\u001b[43mexpenses\u001b[49m\u001b[43m)\u001b[49m\n",
      "Cell \u001b[1;32mIn[36], line 2\u001b[0m, in \u001b[0;36mfair\u001b[1;34m(expenses)\u001b[0m\n\u001b[0;32m      1\u001b[0m \u001b[38;5;28;01mdef\u001b[39;00m \u001b[38;5;21mfair\u001b[39m(expenses):\n\u001b[1;32m----> 2\u001b[0m     total_spent \u001b[38;5;241m=\u001b[39m \u001b[43mtotal\u001b[49m\u001b[43m(\u001b[49m\u001b[43mexpenses\u001b[49m\u001b[43m)\u001b[49m\n\u001b[0;32m      4\u001b[0m     num_people \u001b[38;5;241m=\u001b[39m \u001b[38;5;28mlen\u001b[39m(expenses)\n\u001b[0;32m      5\u001b[0m     avg_spent \u001b[38;5;241m=\u001b[39m total_spent \u001b[38;5;241m/\u001b[39m num_people\n",
      "\u001b[1;31mTypeError\u001b[0m: 'int' object is not callable"
     ]
    }
   ],
   "source": [
    "fair(expenses)"
   ]
  },
  {
   "cell_type": "markdown",
   "metadata": {},
   "source": [
    "## Exercise 2\n",
    "Let us consider recipies made of ingredients, which are sold in some shops. Recipies are python dictionary associating a recipy name with a preparation time, a cooking time and a difficulty score. Ingredients is a dictionary associating a name with a season (that is, when can these be found, for instance from May/5 til July/7). Shops finally is a dictionary associating a shop name with two booleans: one for indicating whether the shop is open on Sundays and one whether the shop only accepts cash.\n",
    "![diagram](https://mastertal.gitlab.io/UE803/notebooks/images/recipy.png)\n",
    "\n",
    "Examples of recipies include:\n",
    "<pre>recipies = { 'Kouglof' : (20, 20, 5), 'Banana Split' : (5, 0, 1), ... }</pre>\n",
    "Examples of ingredients include:\n",
    "<pre>ingredients = { 'strawberry' : (5, 7), 'flour' : (1, 12), ...}</pre>\n",
    "Examples of shops include:\n",
    "<pre>shops = { 'BuyOrganic' : (False , False), ...}</pre>\n",
    "The relations between a recipy and its ingredients are represented as follows:\n",
    "<pre>contains = [('Kouglof', 'flour'), ('Kouglof', 'sugar'), ...]</pre>\n",
    "and that between ingredients and shops:\n",
    "<pre> sold_in = [('flour', 'BuyOrganic'), ...]</pre>\n",
    "In the following questions, you are asked to define functions and to test them.\n",
    "\n",
    "To do so, define a dictionary containing 3 recipies, each one using 5 ingredients of your choices (they do not have to be real recipies :-) and make up 3 shops selling these ingredients."
   ]
  },
  {
   "cell_type": "code",
   "execution_count": 39,
   "metadata": {},
   "outputs": [],
   "source": [
    "recipes = {\n",
    "    'Curry': [\"curry\", \"rice\", \"lentils\"],\n",
    "    'Lasagna': [\"chickpeas\", \"tofu\", \"kale\"],\n",
    "    'Buddha Bowl': [\"avocado\", \"quinoa\", \"sweet potato\"]\n",
    "}\n",
    "\n",
    "ingredients = ['Tofu'\n",
    "    'Lentils'\n",
    "    'Sweet Potato'\n",
    "    'Kale'\n",
    "    'Quinoa'\n",
    "    'Chickpeas'\n",
    "    'Avocado']\n",
    "    \n",
    "\n",
    "shops = {\n",
    "    'Grocery': [\"curry\", \"rice\", \"lentils\"],\n",
    "    'market': [\"avocado\", \"quinoa\", \"sweet potato\"],\n",
    "    'other market': [\"chickpeas\", \"tofu\", \"kale\"],\n",
    "    \n",
    "}\n"
   ]
  },
  {
   "cell_type": "markdown",
   "metadata": {},
   "source": [
    "### Question 2.1\n",
    "Define a function `in_recipy` which computes the list of recipies containing a given ingredient."
   ]
  },
  {
   "cell_type": "code",
   "execution_count": 40,
   "metadata": {},
   "outputs": [],
   "source": [
    "def in_recipy(ingredient, contains):\n",
    "    recipies = []\n",
    "    for r, i in contains:\n",
    "        if i == ingredient:\n",
    "            recipies.append(r)\n",
    "    return recipies"
   ]
  },
  {
   "cell_type": "markdown",
   "metadata": {},
   "source": [
    "### Question 2.2\n",
    "Define a function `sold` which computes the list of shops where a given ingredient can be bought."
   ]
  },
  {
   "cell_type": "code",
   "execution_count": 22,
   "metadata": {},
   "outputs": [],
   "source": [
    "def sold(ingredient, sold_in):\n",
    "    return [shop for (ingr, shop) in sold_in if ingr == ingredient]\n"
   ]
  },
  {
   "cell_type": "markdown",
   "metadata": {},
   "source": [
    "### Question 2.3\n",
    "Define a function `sunday` which computes the list of ingredients which can be bought on a sunday. "
   ]
  },
  {
   "cell_type": "code",
   "execution_count": 41,
   "metadata": {},
   "outputs": [],
   "source": [
    "def sunday(shops, sold_in):\n",
    "    return [ingredient for ingredient, shop in sold_in if shop in shops and shops[shop][0]]\n"
   ]
  },
  {
   "cell_type": "markdown",
   "metadata": {},
   "source": [
    "### Question 2.4\n",
    "Define a function `convert` which turns a list of ingredients such as `contains` into a dictionary associating a recipy name with a list of ingredients. "
   ]
  },
  {
   "cell_type": "code",
   "execution_count": 42,
   "metadata": {},
   "outputs": [],
   "source": [
    "def convert(contains):\n",
    "    recipes = {}\n",
    "    for recipe in contains:\n",
    "        recipe_name, ingredients = recipe.split(':')\n",
    "        ingredients_list = [ing.strip() for ing in ingredients.split(',')]\n",
    "        recipes[recipe_name] = ingredients_list\n",
    "    return recipes\n"
   ]
  },
  {
   "cell_type": "markdown",
   "metadata": {},
   "source": [
    "### Question 2.5\n",
    "Define a function `this_month` which computes the list of recipies which can be cooked on a given month."
   ]
  },
  {
   "cell_type": "code",
   "execution_count": 43,
   "metadata": {},
   "outputs": [],
   "source": [
    "def this_month(recipes, month):\n",
    "    month_recipes = []\n",
    "    for recipe, ingredients in recipes.items():\n",
    "        if month in ingredients:\n",
    "            month_recipes.append(recipe)\n",
    "    return month_recipes\n"
   ]
  },
  {
   "cell_type": "code",
   "execution_count": null,
   "metadata": {},
   "outputs": [],
   "source": []
  }
 ],
 "metadata": {
  "kernelspec": {
   "display_name": "Python 3 (ipykernel)",
   "language": "python",
   "name": "python3"
  },
  "language_info": {
   "codemirror_mode": {
    "name": "ipython",
    "version": 3
   },
   "file_extension": ".py",
   "mimetype": "text/x-python",
   "name": "python",
   "nbconvert_exporter": "python",
   "pygments_lexer": "ipython3",
   "version": "3.11.1"
  }
 },
 "nbformat": 4,
 "nbformat_minor": 2
}
