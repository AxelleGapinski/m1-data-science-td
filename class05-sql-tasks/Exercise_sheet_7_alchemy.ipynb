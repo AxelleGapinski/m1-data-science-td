{
 "cells": [
  {
   "cell_type": "markdown",
   "metadata": {},
   "source": [
    "# Exercise Sheet \\# 7 - Interfacing Python with SQL databases"
   ]
  },
  {
   "cell_type": "markdown",
   "metadata": {},
   "source": [
    "In this exercises, you are asked to design python code which can interact with a SQLite database. We will use again the [SQL database](http://www.sqlitetutorial.net/wp-content/uploads/2018/03/chinook.zip) from Exercise Sheet \\#6. "
   ]
  },
  {
   "cell_type": "markdown",
   "metadata": {},
   "source": [
    "## Exercise 1\n",
    "\n",
    "Write a python script, which covers questions 1.5 to 1.9 from Exercise Sheet \\#5, using the SQLalchemy API."
   ]
  },
  {
   "cell_type": "code",
   "execution_count": null,
   "metadata": {},
   "outputs": [],
   "source": [
    "from sqlalchemy import create_engine, func\n",
    "from sqlalchemy.orm import sessionmaker\n",
    "from sqlalchemy.ext.automap import automap_base\n",
    "\n",
    "engine = create_engine('chinook.db')\n",
    "\n",
    "Base = automap_base()\n",
    "Base.prepare(engine, reflect=True)\n",
    "\n",
    "Session = sessionmaker(bind=engine)\n",
    "session = Session()\n",
    "\n",
    "Track = Base.classes.tracks\n",
    "Album = Base.classes.albums\n",
    "\n",
    "num_tracks_per_album = session.query(albums.Title, func.count(tracks.TrackId)).\\\n",
    "                                join(tracks).\\\n",
    "                                group_by(albums.Title).\\\n",
    "                                order_by(albums.Title).all()\n",
    "\n",
    "print(num_tracks_per_album)\n",
    "\n",
    "\n",
    "\n",
    "\n"
   ]
  },
  {
   "cell_type": "markdown",
   "metadata": {},
   "source": [
    "## Exercise 2\n",
    "Extend your program so that it also covers questions 2.5, 2.6 and 2.8 from previous Exercise Sheet."
   ]
  },
  {
   "cell_type": "code",
   "execution_count": null,
   "metadata": {},
   "outputs": [],
   "source": []
  }
 ],
 "metadata": {
  "kernelspec": {
   "display_name": "Python 3 (ipykernel)",
   "language": "python",
   "name": "python3"
  },
  "language_info": {
   "codemirror_mode": {
    "name": "ipython",
    "version": 3
   },
   "file_extension": ".py",
   "mimetype": "text/x-python",
   "name": "python",
   "nbconvert_exporter": "python",
   "pygments_lexer": "ipython3",
   "version": "3.11.1"
  }
 },
 "nbformat": 4,
 "nbformat_minor": 2
}
