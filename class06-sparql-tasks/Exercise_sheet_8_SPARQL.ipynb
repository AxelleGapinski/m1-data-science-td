{
 "cells": [
  {
   "cell_type": "markdown",
   "metadata": {},
   "source": [
    "# Exercise Sheet #8\n",
    "\n",
    "## Exercise 1\n",
    "\n",
    "For this exercise, you are require to write SPARQL queries and to check their answer on the following SPARQL endpoint: https://dbpedia.org/sparql.\n",
    "\n",
    "The following prefixes will be useful:\n",
    "- PREFIX dbo: <http://dbpedia.org/ontology/>\n",
    "- PREFIX dbr: <http://dbpedia.org/resource/>\n",
    "- PREFIX dbp: <http://dbpedia.org/property/>\n",
    "\n",
    "### Question 1.1\n",
    "\n",
    "- Look up http://dbpedia.org/page/Alan_Bean. Write a query to retrieve the abstract.\n"
   ]
  },
  {
   "cell_type": "markdown",
   "metadata": {},
   "source": [
    "PREFIX dbo: <http://dbpedia.org/ontology/>\n",
    "PREFIX dbr: <http://dbpedia.org/resource/>\n",
    "PREFIX dbp: <http://dbpedia.org/property/>\n",
    "\n",
    "SELECT ?abstract ?person\n",
    "WHERE {\n",
    "  ?person dbo:birthName \"Alan LaVern Bean\"@EN ;\n",
    "                dbo:abstract ?abstract .\n",
    "}"
   ]
  },
  {
   "cell_type": "markdown",
   "metadata": {},
   "source": [
    "### Question 1.2\n",
    "- Modify the query to retrieve the abstract in a single language of your choice (e.g., only the french abstract).\n"
   ]
  },
  {
   "cell_type": "markdown",
   "metadata": {},
   "source": [
    "PREFIX dbo: <http://dbpedia.org/ontology/>\n",
    "PREFIX dbr: <http://dbpedia.org/resource/>\n",
    "PREFIX dbp: <http://dbpedia.org/property/>\n",
    "\n",
    "SELECT ?abstract ?person\n",
    "WHERE {\n",
    "  ?person dbo:birthName \"Alan LaVern Bean\"@EN ;\n",
    "                dbo:abstract ?abstract \n",
    "  FILTER (lang(?abstract) = \"fr\")\n",
    "}\n"
   ]
  },
  {
   "cell_type": "markdown",
   "metadata": {},
   "source": [
    "### Question 1.3\n",
    "- Look at how the astronaut profession is specified (in http://dbpedia.org/page/Alan_Bean) and write a query to retrieve all astronauts.\n"
   ]
  },
  {
   "cell_type": "markdown",
   "metadata": {},
   "source": [
    "PREFIX dbo: <http://dbpedia.org/ontology/>\n",
    "PREFIX dbr: <http://dbpedia.org/resource/>\n",
    "PREFIX dbp: <http://dbpedia.org/property/>\n",
    "\n",
    "SELECT ?astronaut\n",
    "WHERE {\n",
    "  ?astronaut dbo:occupation dbr:Astronaut .\n",
    "}\n",
    "\n",
    "\n",
    "or\n",
    "\n",
    "PREFIX dbo: <http://dbpedia.org/ontology/>\n",
    "PREFIX dbr: <http://dbpedia.org/resource/>\n",
    "PREFIX dbp: <http://dbpedia.org/property/>\n",
    "PREFIX rdfs: <http://www.w3.org/2000/01/rdf-schema#>\n",
    "\n",
    "SELECT ?person\n",
    "WHERE {\n",
    "  ?person dbp:type dbr:Astronaut ;\n",
    "          rdfs:label ?name .\n",
    "}"
   ]
  },
  {
   "cell_type": "markdown",
   "metadata": {},
   "source": [
    "### Question 1.4\n",
    "- Write a query that counts the nb of astronauts.\n"
   ]
  },
  {
   "cell_type": "markdown",
   "metadata": {},
   "source": [
    "PREFIX dbo: <http://dbpedia.org/ontology/>\n",
    "PREFIX dbr: <http://dbpedia.org/resource/>\n",
    "PREFIX dbp: <http://dbpedia.org/property/>\n",
    "\n",
    "SELECT count(?person)\n",
    "WHERE {\n",
    "  ?person dbp:type dbr:Astronaut .\n",
    "}"
   ]
  },
  {
   "cell_type": "markdown",
   "metadata": {},
   "source": [
    "### Question 1.5\n",
    "- Retrieve all astronauts and their nationality: Try with and without the OPTIONAL clause; for each query, get the number of astronauts.\n"
   ]
  },
  {
   "cell_type": "markdown",
   "metadata": {},
   "source": [
    "PREFIX dbo: <http://dbpedia.org/ontology/>\n",
    "PREFIX dbr: <http://dbpedia.org/resource/>\n",
    "PREFIX dbp: <http://dbpedia.org/property/>\n",
    "\n",
    "SELECT count(*)\n",
    "WHERE {\n",
    "?person dbp:type dbr:Astronaut.\n",
    "OPTIONAL {?person dbo:nationality?citizen . }\n",
    "}\n",
    "\n",
    "#OR\n",
    "\n",
    "PREFIX dbo: <http://dbpedia.org/ontology/>\n",
    "PREFIX dbr: <http://dbpedia.org/resource/>\n",
    "PREFIX dbp: <http://dbpedia.org/property/>\n",
    "\n",
    "SELECT*\n",
    "WHERE {\n",
    "?person dbp:type dbr:Astronaut.\n",
    "OPTIONAL {?person dbo:nationality?citizen . }\n",
    "}"
   ]
  },
  {
   "cell_type": "markdown",
   "metadata": {},
   "source": [
    "### Question 1.6\n",
    "- Retrieve all astronauts ordered in reverse alphabetical order .\n"
   ]
  },
  {
   "cell_type": "markdown",
   "metadata": {},
   "source": [
    "PREFIX dbo: <http://dbpedia.org/ontology/>\n",
    "PREFIX dbr: <http://dbpedia.org/resource/>\n",
    "PREFIX dbp: <http://dbpedia.org/property/>\n",
    "\n",
    "SELECT ?astronaut ?nationality\n",
    "WHERE {\n",
    "  ?astronaut dbo:occupation dbr:Astronaut .\n",
    "  ?astronaut dbo:nationality ?nationality .\n",
    "}\n",
    "ORDER BY DESC(?nationality)\n",
    "\n",
    "#OR \n",
    "\n",
    "PREFIX dbo: <http://dbpedia.org/ontology/>\n",
    "PREFIX dbr: <http://dbpedia.org/resource/>\n",
    "PREFIX dbp: <http://dbpedia.org/property/>\n",
    "PREFIX rdfs: <http://www.w3.org/2000/01/rdf-schema#>\n",
    "\n",
    "SELECT ?name\n",
    "WHERE {\n",
    "  ?person dbp:type dbr:Astronaut ;\n",
    "  rdfs:label ?name .\n",
    "FILTER(lang(?name) = \"en\")\n",
    "}\n",
    "ORDER BY DESC(?name)"
   ]
  },
  {
   "cell_type": "markdown",
   "metadata": {},
   "source": [
    "### Question 1.7\n",
    "- Retrieve all astronauts grouped by nationality.\n"
   ]
  },
  {
   "cell_type": "markdown",
   "metadata": {},
   "source": [
    "PREFIX dbo: <http://dbpedia.org/ontology/>\n",
    "PREFIX dbr: <http://dbpedia.org/resource/>\n",
    "PREFIX dbp: <http://dbpedia.org/property/>\n",
    "PREFIX rdfs: <http://www.w3.org/2000/01/rdf-schema#>\n",
    "\n",
    "SELECT ?name ?citizen\n",
    "WHERE {\n",
    "?person dbp:type dbr:Astronaut ;\n",
    "    rdfs:label ?name .\n",
    "OPTIONAL {?person dbo:nationality ?citizen . }\n",
    "FILTER (lang(?name) =\"en\")\n",
    "}\n",
    "ORDER BY ?citizen\n"
   ]
  },
  {
   "cell_type": "markdown",
   "metadata": {},
   "source": [
    "## Exercise 2\n",
    "Using [SPARQLWrapper](https://rdflib.github.io/sparqlwrapper/), write a python program which applies the 7 queries above and display the results.\n"
   ]
  },
  {
   "cell_type": "code",
   "execution_count": null,
   "metadata": {},
   "outputs": [],
   "source": [
    "from SPARQLWrapper import SPARQLWrapper , JSON\n",
    "from SPARQLWrapper import SPARQLWrapper2\n",
    "sparql = SPARQLWrapper(\"http://dbpedia.org/sparql\")\n",
    "sparql.setQuery(\"\"\"\n",
    "PREFIX dbo: <http://dbpedia.org/ontology/>\n",
    "PREFIX dbr: <http://dbpedia.org/resource/>\n",
    "PREFIX dbp: <http://dbpedia.org/property/>\n",
    "\n",
    "SELECT ?abstract ?person\n",
    "WHERE {\n",
    "  ?person dbo:birthName \"Alan LaVern Bean\"@EN ;\n",
    "                dbo:abstract ?abstract .\n",
    "}\n",
    "\n",
    "\"\"\")\n"
   ]
  }
 ],
 "metadata": {
  "kernelspec": {
   "display_name": "Python 3 (ipykernel)",
   "language": "python",
   "name": "python3"
  },
  "language_info": {
   "codemirror_mode": {
    "name": "ipython",
    "version": 3
   },
   "file_extension": ".py",
   "mimetype": "text/x-python",
   "name": "python",
   "nbconvert_exporter": "python",
   "pygments_lexer": "ipython3",
   "version": "3.11.1"
  }
 },
 "nbformat": 4,
 "nbformat_minor": 2
}
